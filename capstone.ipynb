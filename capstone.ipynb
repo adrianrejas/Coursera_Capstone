{
 "cells": [
  {
   "cell_type": "markdown",
   "metadata": {},
   "source": [
    "# Capstone project\n",
    "\n",
    "This notebook will be used for the capstone project of Coursera's IBM Data Science certification Capstone Project.\n",
    "\n",
    "## Week 1 assignment\n",
    "\n",
    "It will consist on basic initialization of the notebook."
   ]
  },
  {
   "cell_type": "code",
   "execution_count": 1,
   "metadata": {},
   "outputs": [],
   "source": [
    "# import pandas and numpy libraries\n",
    "import pandas as pd\n",
    "import numpy as np"
   ]
  },
  {
   "cell_type": "code",
   "execution_count": 2,
   "metadata": {},
   "outputs": [
    {
     "name": "stdout",
     "output_type": "stream",
     "text": [
      "Hello Capstone Project Course!\n"
     ]
    }
   ],
   "source": [
    "print(\"Hello Capstone Project Course!\")"
   ]
  },
  {
   "cell_type": "markdown",
   "metadata": {},
   "source": [
    "## Week 3 assignment, task 1\n",
    "\n",
    "It will consist on getting a dataframe representing the different neighborhoods in Toronto.\n",
    "\n",
    "First I will import the libraries required."
   ]
  },
  {
   "cell_type": "code",
   "execution_count": 3,
   "metadata": {},
   "outputs": [
    {
     "name": "stdout",
     "output_type": "stream",
     "text": [
      "Collecting geocoder\n",
      "\u001b[?25l  Downloading https://files.pythonhosted.org/packages/4f/6b/13166c909ad2f2d76b929a4227c952630ebaf0d729f6317eb09cbceccbab/geocoder-1.38.1-py2.py3-none-any.whl (98kB)\n",
      "\u001b[K     |████████████████████████████████| 102kB 4.4MB/s ta 0:00:011\n",
      "\u001b[?25hRequirement already satisfied: click in /home/jupyterlab/conda/envs/python/lib/python3.6/site-packages (from geocoder) (7.1.2)\n",
      "Requirement already satisfied: requests in /home/jupyterlab/conda/envs/python/lib/python3.6/site-packages (from geocoder) (2.25.0)\n",
      "Collecting ratelim (from geocoder)\n",
      "  Downloading https://files.pythonhosted.org/packages/f2/98/7e6d147fd16a10a5f821db6e25f192265d6ecca3d82957a4fdd592cad49c/ratelim-0.1.6-py2.py3-none-any.whl\n",
      "Requirement already satisfied: six in /home/jupyterlab/conda/envs/python/lib/python3.6/site-packages (from geocoder) (1.15.0)\n",
      "Requirement already satisfied: future in /home/jupyterlab/conda/envs/python/lib/python3.6/site-packages (from geocoder) (0.18.2)\n",
      "Requirement already satisfied: chardet<4,>=3.0.2 in /home/jupyterlab/conda/envs/python/lib/python3.6/site-packages (from requests->geocoder) (3.0.4)\n",
      "Requirement already satisfied: urllib3<1.27,>=1.21.1 in /home/jupyterlab/conda/envs/python/lib/python3.6/site-packages (from requests->geocoder) (1.25.11)\n",
      "Requirement already satisfied: certifi>=2017.4.17 in /home/jupyterlab/conda/envs/python/lib/python3.6/site-packages (from requests->geocoder) (2020.12.5)\n",
      "Requirement already satisfied: idna<3,>=2.5 in /home/jupyterlab/conda/envs/python/lib/python3.6/site-packages (from requests->geocoder) (2.10)\n",
      "Requirement already satisfied: decorator in /home/jupyterlab/conda/envs/python/lib/python3.6/site-packages (from ratelim->geocoder) (4.4.2)\n",
      "Installing collected packages: ratelim, geocoder\n",
      "Successfully installed geocoder-1.38.1 ratelim-0.1.6\n",
      "Collecting geopy\n",
      "\u001b[?25l  Downloading https://files.pythonhosted.org/packages/0c/67/915668d0e286caa21a1da82a85ffe3d20528ec7212777b43ccd027d94023/geopy-2.1.0-py3-none-any.whl (112kB)\n",
      "\u001b[K     |████████████████████████████████| 112kB 5.4MB/s eta 0:00:01\n",
      "\u001b[?25hCollecting geographiclib<2,>=1.49 (from geopy)\n",
      "  Downloading https://files.pythonhosted.org/packages/8b/62/26ec95a98ba64299163199e95ad1b0e34ad3f4e176e221c40245f211e425/geographiclib-1.50-py3-none-any.whl\n",
      "Installing collected packages: geographiclib, geopy\n",
      "Successfully installed geographiclib-1.50 geopy-2.1.0\n",
      "Requirement already satisfied: folium==0.5.0 in /home/jupyterlab/conda/envs/python/lib/python3.6/site-packages (0.5.0)\n",
      "Requirement already satisfied: requests in /home/jupyterlab/conda/envs/python/lib/python3.6/site-packages (from folium==0.5.0) (2.25.0)\n",
      "Requirement already satisfied: six in /home/jupyterlab/conda/envs/python/lib/python3.6/site-packages (from folium==0.5.0) (1.15.0)\n",
      "Requirement already satisfied: branca in /home/jupyterlab/conda/envs/python/lib/python3.6/site-packages (from folium==0.5.0) (0.4.1)\n",
      "Requirement already satisfied: jinja2 in /home/jupyterlab/conda/envs/python/lib/python3.6/site-packages (from folium==0.5.0) (2.11.2)\n",
      "Requirement already satisfied: chardet<4,>=3.0.2 in /home/jupyterlab/conda/envs/python/lib/python3.6/site-packages (from requests->folium==0.5.0) (3.0.4)\n",
      "Requirement already satisfied: urllib3<1.27,>=1.21.1 in /home/jupyterlab/conda/envs/python/lib/python3.6/site-packages (from requests->folium==0.5.0) (1.25.11)\n",
      "Requirement already satisfied: certifi>=2017.4.17 in /home/jupyterlab/conda/envs/python/lib/python3.6/site-packages (from requests->folium==0.5.0) (2020.12.5)\n",
      "Requirement already satisfied: idna<3,>=2.5 in /home/jupyterlab/conda/envs/python/lib/python3.6/site-packages (from requests->folium==0.5.0) (2.10)\n",
      "Requirement already satisfied: MarkupSafe>=0.23 in /home/jupyterlab/conda/envs/python/lib/python3.6/site-packages (from jinja2->folium==0.5.0) (1.1.1)\n",
      "Collecting bs4\n",
      "  Downloading https://files.pythonhosted.org/packages/10/ed/7e8b97591f6f456174139ec089c769f89a94a1a4025fe967691de971f314/bs4-0.0.1.tar.gz\n",
      "Collecting beautifulsoup4 (from bs4)\n",
      "\u001b[?25l  Downloading https://files.pythonhosted.org/packages/d1/41/e6495bd7d3781cee623ce23ea6ac73282a373088fcd0ddc809a047b18eae/beautifulsoup4-4.9.3-py3-none-any.whl (115kB)\n",
      "\u001b[K     |████████████████████████████████| 122kB 4.5MB/s eta 0:00:01\n",
      "\u001b[?25hCollecting soupsieve>1.2; python_version >= \"3.0\" (from beautifulsoup4->bs4)\n",
      "  Downloading https://files.pythonhosted.org/packages/41/e7/3617a4b988ed7744743fb0dbba5aa0a6e3f95a9557b43f8c4740d296b48a/soupsieve-2.2-py3-none-any.whl\n",
      "Building wheels for collected packages: bs4\n",
      "  Building wheel for bs4 (setup.py) ... \u001b[?25ldone\n",
      "\u001b[?25h  Stored in directory: /home/jupyterlab/.cache/pip/wheels/a0/b0/b2/4f80b9456b87abedbc0bf2d52235414c3467d8889be38dd472\n",
      "Successfully built bs4\n",
      "Installing collected packages: soupsieve, beautifulsoup4, bs4\n",
      "Successfully installed beautifulsoup4-4.9.3 bs4-0.0.1 soupsieve-2.2\n"
     ]
    }
   ],
   "source": [
    "# import pandas and numpy libraries\n",
    "import pandas as pd\n",
    "import numpy as np\n",
    "\n",
    "# library to handle requests\n",
    "import requests \n",
    "\n",
    "# Library for getting latitude and longitude of an address\n",
    "!pip install geocoder\n",
    "import geocoder\n",
    "\n",
    "# module to convert an address into latitude and longitude values\n",
    "!pip install geopy\n",
    "from geopy.geocoders import Nominatim\n",
    "\n",
    "# libraries for displaying images\n",
    "from IPython.display import Image \n",
    "from IPython.core.display import HTML \n",
    "\n",
    "# import k-means from clustering sklearn library\n",
    "from sklearn.cluster import KMeans\n",
    "    \n",
    "# tranforming json file into a pandas dataframe library\n",
    "from pandas import json_normalize\n",
    "\n",
    "# Module for map plotting\n",
    "! pip install folium==0.5.0\n",
    "import folium\n",
    "\n",
    "# Matplotlib and associated plotting modules\n",
    "import matplotlib.cm as cm\n",
    "import matplotlib.colors as colors\n",
    "\n",
    "# Module for HTML scrapping\n",
    "! pip install bs4\n",
    "from bs4 import BeautifulSoup"
   ]
  },
  {
   "cell_type": "markdown",
   "metadata": {},
   "source": [
    "Now I will request the data with the neighborhoods of Toronto from Wikipedia."
   ]
  },
  {
   "cell_type": "code",
   "execution_count": 4,
   "metadata": {},
   "outputs": [],
   "source": [
    "url = \"https://en.wikipedia.org/wiki/List_of_postal_codes_of_Canada:_M\"\n",
    "html_wikipedia_toronto = requests.get(url).text"
   ]
  },
  {
   "cell_type": "markdown",
   "metadata": {},
   "source": [
    "Now we scrap the table of neighborhoods. I'll use BeautifulSoup for that, stripping carriage return characters and following the conditions fixed in the instructions."
   ]
  },
  {
   "cell_type": "code",
   "execution_count": 5,
   "metadata": {},
   "outputs": [],
   "source": [
    "soup_toronto = BeautifulSoup(html_wikipedia_toronto, 'html.parser')\n",
    "html_toronto_table = soup_toronto.find(\"table\", {\"class\":\"wikitable sortable\"})\n",
    "toronto_neighborhoods = []\n",
    "for items in html_toronto_table.find_all('tr')[1::1]:\n",
    "    data = items.find_all(['th','td'])\n",
    "    try:\n",
    "        postalCode = data[0].text.strip('\\n')\n",
    "        borough = data[1].text.strip('\\n')\n",
    "        neighborhood = data[2].text.strip('\\n')\n",
    "        if (neighborhood == \"Not assigned\"):\n",
    "            neighborhood = borough\n",
    "        if (borough != \"Not assigned\"):\n",
    "            toronto_neighborhoods.append((postalCode, borough, neighborhood))\n",
    "    except IndexError:pass\n",
    "df_toronto_neighborhoods = pd.DataFrame([item for item in toronto_neighborhoods])\n",
    "df_toronto_neighborhoods.columns = [\"PostalCode\", \"Borough\", \"Neighborhood\"]"
   ]
  },
  {
   "cell_type": "markdown",
   "metadata": {},
   "source": [
    "I'll check the first elements of the resultant dataframe."
   ]
  },
  {
   "cell_type": "code",
   "execution_count": 6,
   "metadata": {},
   "outputs": [
    {
     "data": {
      "text/html": [
       "<div>\n",
       "<style scoped>\n",
       "    .dataframe tbody tr th:only-of-type {\n",
       "        vertical-align: middle;\n",
       "    }\n",
       "\n",
       "    .dataframe tbody tr th {\n",
       "        vertical-align: top;\n",
       "    }\n",
       "\n",
       "    .dataframe thead th {\n",
       "        text-align: right;\n",
       "    }\n",
       "</style>\n",
       "<table border=\"1\" class=\"dataframe\">\n",
       "  <thead>\n",
       "    <tr style=\"text-align: right;\">\n",
       "      <th></th>\n",
       "      <th>PostalCode</th>\n",
       "      <th>Borough</th>\n",
       "      <th>Neighborhood</th>\n",
       "    </tr>\n",
       "  </thead>\n",
       "  <tbody>\n",
       "    <tr>\n",
       "      <th>0</th>\n",
       "      <td>M3A</td>\n",
       "      <td>North York</td>\n",
       "      <td>Parkwoods</td>\n",
       "    </tr>\n",
       "    <tr>\n",
       "      <th>1</th>\n",
       "      <td>M4A</td>\n",
       "      <td>North York</td>\n",
       "      <td>Victoria Village</td>\n",
       "    </tr>\n",
       "    <tr>\n",
       "      <th>2</th>\n",
       "      <td>M5A</td>\n",
       "      <td>Downtown Toronto</td>\n",
       "      <td>Regent Park, Harbourfront</td>\n",
       "    </tr>\n",
       "    <tr>\n",
       "      <th>3</th>\n",
       "      <td>M6A</td>\n",
       "      <td>North York</td>\n",
       "      <td>Lawrence Manor, Lawrence Heights</td>\n",
       "    </tr>\n",
       "    <tr>\n",
       "      <th>4</th>\n",
       "      <td>M7A</td>\n",
       "      <td>Downtown Toronto</td>\n",
       "      <td>Queen's Park, Ontario Provincial Government</td>\n",
       "    </tr>\n",
       "  </tbody>\n",
       "</table>\n",
       "</div>"
      ],
      "text/plain": [
       "  PostalCode           Borough                                 Neighborhood\n",
       "0        M3A        North York                                    Parkwoods\n",
       "1        M4A        North York                             Victoria Village\n",
       "2        M5A  Downtown Toronto                    Regent Park, Harbourfront\n",
       "3        M6A        North York             Lawrence Manor, Lawrence Heights\n",
       "4        M7A  Downtown Toronto  Queen's Park, Ontario Provincial Government"
      ]
     },
     "execution_count": 6,
     "metadata": {},
     "output_type": "execute_result"
    }
   ],
   "source": [
    "df_toronto_neighborhoods.head()"
   ]
  },
  {
   "cell_type": "markdown",
   "metadata": {},
   "source": [
    "I'll check the shape of the resultant dataframe."
   ]
  },
  {
   "cell_type": "code",
   "execution_count": 7,
   "metadata": {},
   "outputs": [
    {
     "data": {
      "text/plain": [
       "(103, 3)"
      ]
     },
     "execution_count": 7,
     "metadata": {},
     "output_type": "execute_result"
    }
   ],
   "source": [
    "df_toronto_neighborhoods.shape"
   ]
  },
  {
   "cell_type": "markdown",
   "metadata": {},
   "source": [
    "## Week 3 assignment, task 2\n",
    "\n",
    "It will consist on adding geolocation data to the dataframe previously declared about the neighborhoods of Toronto.\n",
    "\n",
    "First I would import the libraries required, but these have been imported previously at \"Week 3 assignment, task 1\" section.\n",
    "\n",
    "The first real thing to do will be to define a function for getting the latitude and longitude of a postal code from Toronto."
   ]
  },
  {
   "cell_type": "code",
   "execution_count": 8,
   "metadata": {},
   "outputs": [],
   "source": [
    "# Define a function for adding the location of a Toronto postal code to the dataframe\n",
    "def getTorontoPostalCode(row):\n",
    "    # initialize your variable to None\n",
    "    lat_lng_coords = None\n",
    "\n",
    "    # loop until you get the coordinates\n",
    "    while(lat_lng_coords is None):\n",
    "      g = geocoder.google('{}, Toronto, Ontario'.format(row['PostalCode']))\n",
    "      lat_lng_coords = g.latlng\n",
    "\n",
    "    # Extract the coourdinates from the result\n",
    "    latitude = lat_lng_coords[0]\n",
    "    longitude = lat_lng_coords[1]\n",
    "    \n",
    "    return latitude, longitude"
   ]
  },
  {
   "cell_type": "markdown",
   "metadata": {},
   "source": [
    "As this function can cost a time applied to all elements of the list, here is a replacement of the previous function using a CSV file."
   ]
  },
  {
   "cell_type": "code",
   "execution_count": 9,
   "metadata": {},
   "outputs": [],
   "source": [
    "# Get and process a CSV file with locations based on Toronto postal codes\n",
    "df_locations_toronto = pd.read_csv(\"https://cocl.us/Geospatial_data\")\n",
    "df_locations_toronto.set_index(\"Postal Code\", inplace = True)\n",
    "\n",
    "# Define a function for adding location of a Toronto postal code to the dataframe\n",
    "def getTorontoPostalCodeCsv(postalCode):\n",
    "    # Get the coordinates from the CSV file\n",
    "    latitude = df_locations_toronto.loc[postalCode]['Latitude']\n",
    "    longitude = df_locations_toronto.loc[postalCode]['Longitude']\n",
    "    \n",
    "    return latitude, longitude"
   ]
  },
  {
   "cell_type": "markdown",
   "metadata": {},
   "source": [
    "Now I'll apply that function to the previously created dataframe in order to add latitude and longitude to the dataframe."
   ]
  },
  {
   "cell_type": "code",
   "execution_count": 10,
   "metadata": {},
   "outputs": [],
   "source": [
    "df_toronto_neighborhoods['Latitude'], df_toronto_neighborhoods['Longitude'] = zip(*df_toronto_neighborhoods['PostalCode'].map(getTorontoPostalCodeCsv))"
   ]
  },
  {
   "cell_type": "markdown",
   "metadata": {},
   "source": [
    "And here is the result:"
   ]
  },
  {
   "cell_type": "code",
   "execution_count": 11,
   "metadata": {},
   "outputs": [
    {
     "data": {
      "text/html": [
       "<div>\n",
       "<style scoped>\n",
       "    .dataframe tbody tr th:only-of-type {\n",
       "        vertical-align: middle;\n",
       "    }\n",
       "\n",
       "    .dataframe tbody tr th {\n",
       "        vertical-align: top;\n",
       "    }\n",
       "\n",
       "    .dataframe thead th {\n",
       "        text-align: right;\n",
       "    }\n",
       "</style>\n",
       "<table border=\"1\" class=\"dataframe\">\n",
       "  <thead>\n",
       "    <tr style=\"text-align: right;\">\n",
       "      <th></th>\n",
       "      <th>PostalCode</th>\n",
       "      <th>Borough</th>\n",
       "      <th>Neighborhood</th>\n",
       "      <th>Latitude</th>\n",
       "      <th>Longitude</th>\n",
       "    </tr>\n",
       "  </thead>\n",
       "  <tbody>\n",
       "    <tr>\n",
       "      <th>0</th>\n",
       "      <td>M3A</td>\n",
       "      <td>North York</td>\n",
       "      <td>Parkwoods</td>\n",
       "      <td>43.753259</td>\n",
       "      <td>-79.329656</td>\n",
       "    </tr>\n",
       "    <tr>\n",
       "      <th>1</th>\n",
       "      <td>M4A</td>\n",
       "      <td>North York</td>\n",
       "      <td>Victoria Village</td>\n",
       "      <td>43.725882</td>\n",
       "      <td>-79.315572</td>\n",
       "    </tr>\n",
       "    <tr>\n",
       "      <th>2</th>\n",
       "      <td>M5A</td>\n",
       "      <td>Downtown Toronto</td>\n",
       "      <td>Regent Park, Harbourfront</td>\n",
       "      <td>43.654260</td>\n",
       "      <td>-79.360636</td>\n",
       "    </tr>\n",
       "    <tr>\n",
       "      <th>3</th>\n",
       "      <td>M6A</td>\n",
       "      <td>North York</td>\n",
       "      <td>Lawrence Manor, Lawrence Heights</td>\n",
       "      <td>43.718518</td>\n",
       "      <td>-79.464763</td>\n",
       "    </tr>\n",
       "    <tr>\n",
       "      <th>4</th>\n",
       "      <td>M7A</td>\n",
       "      <td>Downtown Toronto</td>\n",
       "      <td>Queen's Park, Ontario Provincial Government</td>\n",
       "      <td>43.662301</td>\n",
       "      <td>-79.389494</td>\n",
       "    </tr>\n",
       "  </tbody>\n",
       "</table>\n",
       "</div>"
      ],
      "text/plain": [
       "  PostalCode           Borough                                 Neighborhood  \\\n",
       "0        M3A        North York                                    Parkwoods   \n",
       "1        M4A        North York                             Victoria Village   \n",
       "2        M5A  Downtown Toronto                    Regent Park, Harbourfront   \n",
       "3        M6A        North York             Lawrence Manor, Lawrence Heights   \n",
       "4        M7A  Downtown Toronto  Queen's Park, Ontario Provincial Government   \n",
       "\n",
       "    Latitude  Longitude  \n",
       "0  43.753259 -79.329656  \n",
       "1  43.725882 -79.315572  \n",
       "2  43.654260 -79.360636  \n",
       "3  43.718518 -79.464763  \n",
       "4  43.662301 -79.389494  "
      ]
     },
     "execution_count": 11,
     "metadata": {},
     "output_type": "execute_result"
    }
   ],
   "source": [
    "df_toronto_neighborhoods.head()"
   ]
  },
  {
   "cell_type": "markdown",
   "metadata": {},
   "source": [
    "## Week 3 assignment, task 3\n",
    "\n",
    "It will consist on analyzing and clustering the neighborhoods of Toronto got from the previous.\n",
    "\n",
    "First I would import the libraries required, but these have been imported previously at \"Week 3 assignment, task 1\" section.\n",
    "\n",
    "The first real thing to do will be to define the credentials and version used for accesing to Foursquare API."
   ]
  },
  {
   "cell_type": "code",
   "execution_count": 12,
   "metadata": {},
   "outputs": [
    {
     "name": "stdout",
     "output_type": "stream",
     "text": [
      "Your credentails:\n",
      "CLIENT_ID: 13NUHFZPOD2RG5D5KTBOKQD3N5OESQHFTL1VZU0YYNBFQT1S\n",
      "CLIENT_SECRET:NVOGX55INF4QMOVXCHS3PLHTJ45YZT202KKEZBJAWZRCEEVD\n"
     ]
    }
   ],
   "source": [
    "CLIENT_ID = '13NUHFZPOD2RG5D5KTBOKQD3N5OESQHFTL1VZU0YYNBFQT1S' # your Foursquare ID\n",
    "CLIENT_SECRET = 'NVOGX55INF4QMOVXCHS3PLHTJ45YZT202KKEZBJAWZRCEEVD' # your Foursquare Secret\n",
    "VERSION = '20180605' # Foursquare API version\n",
    "LIMIT = 100 # A default Foursquare API limit value\n",
    "RADIUS = 500 # Radius for the search, worked out based on an average 30 minutes walking distancew\n",
    "\n",
    "print('Your credentails:')\n",
    "print('CLIENT_ID: ' + CLIENT_ID)\n",
    "print('CLIENT_SECRET:' + CLIENT_SECRET)"
   ]
  },
  {
   "cell_type": "markdown",
   "metadata": {},
   "source": [
    "Now I'll define a function for getting the nearby venues of a set of postal codes and names of neighborhoods in Toronto, and their latitudes and longitudes."
   ]
  },
  {
   "cell_type": "code",
   "execution_count": 13,
   "metadata": {},
   "outputs": [],
   "source": [
    "def getNearbyVenues(boroughs, neighborhoods, postal_codes, latitudes, longitudes): \n",
    "    venues_list=[]\n",
    "    index = 0\n",
    "    total = neighborhoods.shape[0]\n",
    "    for borough, neighborhood, postal_code, lat, lng in zip(boroughs, neighborhoods, postal_codes, latitudes, longitudes): \n",
    "        index += 1\n",
    "        print (str(index) + \"/\" + str(total) + \": Getting venues from postal code \" + postal_code + \" ...      \", end=\"\", flush=True)\n",
    "        print('\\r', end='') \n",
    "        # create the API request URL\n",
    "        url = 'https://api.foursquare.com/v2/venues/explore?&client_id={}&client_secret={}&v={}&ll={},{}&raduis={}&limit={}'.format(\n",
    "            CLIENT_ID, \n",
    "            CLIENT_SECRET, \n",
    "            VERSION, \n",
    "            lat, \n",
    "            lng, \n",
    "            RADIUS,\n",
    "            LIMIT)\n",
    "            \n",
    "        # make the GET request\n",
    "        results = requests.get(url).json()[\"response\"]['groups'][0]['items']\n",
    "        \n",
    "        # return only relevant information for each nearby venue\n",
    "        venues_list.append([(\n",
    "            postal_code, \n",
    "            borough, \n",
    "            neighborhood, \n",
    "            lat, \n",
    "            lng, \n",
    "            v['venue']['name'], \n",
    "            v['venue']['location']['lat'], \n",
    "            v['venue']['location']['lng'],  \n",
    "            v['venue']['categories'][0]['name']) for v in results])\n",
    "\n",
    "    nearby_venues = pd.DataFrame([item for venue_list in venues_list for item in venue_list])\n",
    "    nearby_venues.columns = [\n",
    "                  'PostalCode',\n",
    "                  'Borough',  \n",
    "                  'Neighborhood',\n",
    "                  'Neighborhood Latitude', \n",
    "                  'Neighborhood Longitude', \n",
    "                  'Venue', \n",
    "                  'Venue Latitude', \n",
    "                  'Venue Longitude', \n",
    "                  'Venue Category']\n",
    "    \n",
    "    return(nearby_venues)"
   ]
  },
  {
   "cell_type": "markdown",
   "metadata": {},
   "source": [
    "Now I'll apply the function with the dates of the dataframe of Toronto neighborhoods in order to create a new dataframe with Toronto venues."
   ]
  },
  {
   "cell_type": "code",
   "execution_count": 14,
   "metadata": {},
   "outputs": [
    {
     "name": "stdout",
     "output_type": "stream",
     "text": [
      "103/103: Getting venues from postal code M8Z ...      \r"
     ]
    }
   ],
   "source": [
    "df_toronto_venues_raw = getNearbyVenues(postal_codes=df_toronto_neighborhoods['PostalCode'],\n",
    "                                   boroughs=df_toronto_neighborhoods['Borough'],\n",
    "                                   neighborhoods=df_toronto_neighborhoods['Neighborhood'],\n",
    "                                   latitudes=df_toronto_neighborhoods['Latitude'],\n",
    "                                   longitudes=df_toronto_neighborhoods['Longitude']\n",
    "                                  )"
   ]
  },
  {
   "cell_type": "markdown",
   "metadata": {},
   "source": [
    "Now I'll check the created dataframe with Toronto venues."
   ]
  },
  {
   "cell_type": "code",
   "execution_count": 15,
   "metadata": {},
   "outputs": [
    {
     "data": {
      "text/html": [
       "<div>\n",
       "<style scoped>\n",
       "    .dataframe tbody tr th:only-of-type {\n",
       "        vertical-align: middle;\n",
       "    }\n",
       "\n",
       "    .dataframe tbody tr th {\n",
       "        vertical-align: top;\n",
       "    }\n",
       "\n",
       "    .dataframe thead th {\n",
       "        text-align: right;\n",
       "    }\n",
       "</style>\n",
       "<table border=\"1\" class=\"dataframe\">\n",
       "  <thead>\n",
       "    <tr style=\"text-align: right;\">\n",
       "      <th></th>\n",
       "      <th>PostalCode</th>\n",
       "      <th>Borough</th>\n",
       "      <th>Neighborhood</th>\n",
       "      <th>Neighborhood Latitude</th>\n",
       "      <th>Neighborhood Longitude</th>\n",
       "      <th>Venue</th>\n",
       "      <th>Venue Latitude</th>\n",
       "      <th>Venue Longitude</th>\n",
       "      <th>Venue Category</th>\n",
       "    </tr>\n",
       "  </thead>\n",
       "  <tbody>\n",
       "    <tr>\n",
       "      <th>0</th>\n",
       "      <td>M3A</td>\n",
       "      <td>North York</td>\n",
       "      <td>Parkwoods</td>\n",
       "      <td>43.753259</td>\n",
       "      <td>-79.329656</td>\n",
       "      <td>Allwyn's Bakery</td>\n",
       "      <td>43.759840</td>\n",
       "      <td>-79.324719</td>\n",
       "      <td>Caribbean Restaurant</td>\n",
       "    </tr>\n",
       "    <tr>\n",
       "      <th>1</th>\n",
       "      <td>M3A</td>\n",
       "      <td>North York</td>\n",
       "      <td>Parkwoods</td>\n",
       "      <td>43.753259</td>\n",
       "      <td>-79.329656</td>\n",
       "      <td>Tim Hortons</td>\n",
       "      <td>43.760668</td>\n",
       "      <td>-79.326368</td>\n",
       "      <td>Café</td>\n",
       "    </tr>\n",
       "    <tr>\n",
       "      <th>2</th>\n",
       "      <td>M3A</td>\n",
       "      <td>North York</td>\n",
       "      <td>Parkwoods</td>\n",
       "      <td>43.753259</td>\n",
       "      <td>-79.329656</td>\n",
       "      <td>Donalda Golf &amp; Country Club</td>\n",
       "      <td>43.752816</td>\n",
       "      <td>-79.342741</td>\n",
       "      <td>Golf Course</td>\n",
       "    </tr>\n",
       "    <tr>\n",
       "      <th>3</th>\n",
       "      <td>M3A</td>\n",
       "      <td>North York</td>\n",
       "      <td>Parkwoods</td>\n",
       "      <td>43.753259</td>\n",
       "      <td>-79.329656</td>\n",
       "      <td>Galleria Supermarket</td>\n",
       "      <td>43.753520</td>\n",
       "      <td>-79.349518</td>\n",
       "      <td>Supermarket</td>\n",
       "    </tr>\n",
       "    <tr>\n",
       "      <th>4</th>\n",
       "      <td>M3A</td>\n",
       "      <td>North York</td>\n",
       "      <td>Parkwoods</td>\n",
       "      <td>43.753259</td>\n",
       "      <td>-79.329656</td>\n",
       "      <td>Island Foods</td>\n",
       "      <td>43.745866</td>\n",
       "      <td>-79.346035</td>\n",
       "      <td>Caribbean Restaurant</td>\n",
       "    </tr>\n",
       "  </tbody>\n",
       "</table>\n",
       "</div>"
      ],
      "text/plain": [
       "  PostalCode     Borough Neighborhood  Neighborhood Latitude  \\\n",
       "0        M3A  North York    Parkwoods              43.753259   \n",
       "1        M3A  North York    Parkwoods              43.753259   \n",
       "2        M3A  North York    Parkwoods              43.753259   \n",
       "3        M3A  North York    Parkwoods              43.753259   \n",
       "4        M3A  North York    Parkwoods              43.753259   \n",
       "\n",
       "   Neighborhood Longitude                        Venue  Venue Latitude  \\\n",
       "0              -79.329656              Allwyn's Bakery       43.759840   \n",
       "1              -79.329656                  Tim Hortons       43.760668   \n",
       "2              -79.329656  Donalda Golf & Country Club       43.752816   \n",
       "3              -79.329656         Galleria Supermarket       43.753520   \n",
       "4              -79.329656                 Island Foods       43.745866   \n",
       "\n",
       "   Venue Longitude        Venue Category  \n",
       "0       -79.324719  Caribbean Restaurant  \n",
       "1       -79.326368                  Café  \n",
       "2       -79.342741           Golf Course  \n",
       "3       -79.349518           Supermarket  \n",
       "4       -79.346035  Caribbean Restaurant  "
      ]
     },
     "execution_count": 15,
     "metadata": {},
     "output_type": "execute_result"
    }
   ],
   "source": [
    "df_toronto_venues_raw.head()"
   ]
  },
  {
   "cell_type": "markdown",
   "metadata": {},
   "source": [
    "I'll create another dataframe copy of the venues in order to save the original in case something wanted to be modified without the need to request the info again to Forsquare API."
   ]
  },
  {
   "cell_type": "code",
   "execution_count": 16,
   "metadata": {},
   "outputs": [],
   "source": [
    "df_toronto_venues = df_toronto_venues_raw.copy(deep=True)"
   ]
  },
  {
   "cell_type": "markdown",
   "metadata": {},
   "source": [
    "Checking the resultant venues categories, there is one calle Neighborhoods. Let's check it."
   ]
  },
  {
   "cell_type": "code",
   "execution_count": 17,
   "metadata": {},
   "outputs": [
    {
     "data": {
      "text/html": [
       "<div>\n",
       "<style scoped>\n",
       "    .dataframe tbody tr th:only-of-type {\n",
       "        vertical-align: middle;\n",
       "    }\n",
       "\n",
       "    .dataframe tbody tr th {\n",
       "        vertical-align: top;\n",
       "    }\n",
       "\n",
       "    .dataframe thead th {\n",
       "        text-align: right;\n",
       "    }\n",
       "</style>\n",
       "<table border=\"1\" class=\"dataframe\">\n",
       "  <thead>\n",
       "    <tr style=\"text-align: right;\">\n",
       "      <th></th>\n",
       "      <th>PostalCode</th>\n",
       "      <th>Borough</th>\n",
       "      <th>Neighborhood</th>\n",
       "      <th>Neighborhood Latitude</th>\n",
       "      <th>Neighborhood Longitude</th>\n",
       "      <th>Venue</th>\n",
       "      <th>Venue Latitude</th>\n",
       "      <th>Venue Longitude</th>\n",
       "      <th>Venue Category</th>\n",
       "    </tr>\n",
       "  </thead>\n",
       "  <tbody>\n",
       "    <tr>\n",
       "      <th>593</th>\n",
       "      <td>M1B</td>\n",
       "      <td>Scarborough</td>\n",
       "      <td>Malvern, Rouge</td>\n",
       "      <td>43.806686</td>\n",
       "      <td>-79.194353</td>\n",
       "      <td>Highland Creek</td>\n",
       "      <td>43.790281</td>\n",
       "      <td>-79.173703</td>\n",
       "      <td>Neighborhood</td>\n",
       "    </tr>\n",
       "    <tr>\n",
       "      <th>1178</th>\n",
       "      <td>M1C</td>\n",
       "      <td>Scarborough</td>\n",
       "      <td>Rouge Hill, Port Union, Highland Creek</td>\n",
       "      <td>43.784535</td>\n",
       "      <td>-79.160497</td>\n",
       "      <td>Highland Creek</td>\n",
       "      <td>43.790281</td>\n",
       "      <td>-79.173703</td>\n",
       "      <td>Neighborhood</td>\n",
       "    </tr>\n",
       "    <tr>\n",
       "      <th>1791</th>\n",
       "      <td>M1E</td>\n",
       "      <td>Scarborough</td>\n",
       "      <td>Guildwood, Morningside, West Hill</td>\n",
       "      <td>43.763573</td>\n",
       "      <td>-79.188711</td>\n",
       "      <td>Highland Creek</td>\n",
       "      <td>43.790281</td>\n",
       "      <td>-79.173703</td>\n",
       "      <td>Neighborhood</td>\n",
       "    </tr>\n",
       "    <tr>\n",
       "      <th>2374</th>\n",
       "      <td>M5G</td>\n",
       "      <td>Downtown Toronto</td>\n",
       "      <td>Central Bay Street</td>\n",
       "      <td>43.657952</td>\n",
       "      <td>-79.387383</td>\n",
       "      <td>Downtown Toronto</td>\n",
       "      <td>43.653232</td>\n",
       "      <td>-79.385296</td>\n",
       "      <td>Neighborhood</td>\n",
       "    </tr>\n",
       "    <tr>\n",
       "      <th>2945</th>\n",
       "      <td>M5H</td>\n",
       "      <td>Downtown Toronto</td>\n",
       "      <td>Richmond, Adelaide, King</td>\n",
       "      <td>43.650571</td>\n",
       "      <td>-79.384568</td>\n",
       "      <td>Downtown Toronto</td>\n",
       "      <td>43.653232</td>\n",
       "      <td>-79.385296</td>\n",
       "      <td>Neighborhood</td>\n",
       "    </tr>\n",
       "  </tbody>\n",
       "</table>\n",
       "</div>"
      ],
      "text/plain": [
       "     PostalCode           Borough                            Neighborhood  \\\n",
       "593         M1B       Scarborough                          Malvern, Rouge   \n",
       "1178        M1C       Scarborough  Rouge Hill, Port Union, Highland Creek   \n",
       "1791        M1E       Scarborough       Guildwood, Morningside, West Hill   \n",
       "2374        M5G  Downtown Toronto                      Central Bay Street   \n",
       "2945        M5H  Downtown Toronto                Richmond, Adelaide, King   \n",
       "\n",
       "      Neighborhood Latitude  Neighborhood Longitude             Venue  \\\n",
       "593               43.806686              -79.194353    Highland Creek   \n",
       "1178              43.784535              -79.160497    Highland Creek   \n",
       "1791              43.763573              -79.188711    Highland Creek   \n",
       "2374              43.657952              -79.387383  Downtown Toronto   \n",
       "2945              43.650571              -79.384568  Downtown Toronto   \n",
       "\n",
       "      Venue Latitude  Venue Longitude Venue Category  \n",
       "593        43.790281       -79.173703   Neighborhood  \n",
       "1178       43.790281       -79.173703   Neighborhood  \n",
       "1791       43.790281       -79.173703   Neighborhood  \n",
       "2374       43.653232       -79.385296   Neighborhood  \n",
       "2945       43.653232       -79.385296   Neighborhood  "
      ]
     },
     "execution_count": 17,
     "metadata": {},
     "output_type": "execute_result"
    }
   ],
   "source": [
    "df_toronto_venues[df_toronto_venues['Venue Category'] == 'Neighborhood'].head()"
   ]
  },
  {
   "cell_type": "markdown",
   "metadata": {},
   "source": [
    "It seems to be a type of venue representing surrounding neighborhoods. I'll drop it."
   ]
  },
  {
   "cell_type": "code",
   "execution_count": 18,
   "metadata": {},
   "outputs": [],
   "source": [
    " df_toronto_venues.drop(df_toronto_venues[df_toronto_venues['Venue Category'] == 'Neighborhood'].index, inplace=True)"
   ]
  },
  {
   "cell_type": "markdown",
   "metadata": {},
   "source": [
    "Now I'll check the number of venue categories found in Toronto."
   ]
  },
  {
   "cell_type": "code",
   "execution_count": 19,
   "metadata": {},
   "outputs": [
    {
     "data": {
      "text/plain": [
       "(334,)"
      ]
     },
     "execution_count": 19,
     "metadata": {},
     "output_type": "execute_result"
    }
   ],
   "source": [
    "df_toronto_venues[\"Venue Category\"].unique().shape"
   ]
  },
  {
   "cell_type": "markdown",
   "metadata": {},
   "source": [
    "A problem for the analysis of the venues in Torono is the huge number of types of categories of the venue (more than 250), because similar venues (like a stadium and a baseball field) will count as different and totally unrelated venues. Checking Foursquare API documentation, there is a hierarchy with up to 4 levels of types of venues, with the API calls providing us the most detailed type. In order to solve this issue, I'll translate the categories of each element of the dataframe of Toronto venues to it's primary category.\n",
    "\n",
    "For that, I'll ask all types of venues to Foursquare API."
   ]
  },
  {
   "cell_type": "code",
   "execution_count": 20,
   "metadata": {},
   "outputs": [],
   "source": [
    "urlCategories = 'https://api.foursquare.com/v2/venues/categories?&client_id={}&client_secret={}&v={}'.format(\n",
    "    CLIENT_ID, \n",
    "    CLIENT_SECRET, \n",
    "    VERSION)\n",
    "\n",
    "# make the GET request\n",
    "categories_json = requests.get(urlCategories).json()[\"response\"]"
   ]
  },
  {
   "cell_type": "markdown",
   "metadata": {},
   "source": [
    "Now I'll create a set of dictionaries for translating each category, no matter the level, to it's primary or secondary category."
   ]
  },
  {
   "cell_type": "code",
   "execution_count": 21,
   "metadata": {},
   "outputs": [],
   "source": [
    "def checkPrimaryCategoryByLevel(categoriesList, categoriesDict, primaryCategory):\n",
    "    for category in categoriesList:\n",
    "        categoriesDict[category[\"name\"]] = primaryCategory\n",
    "        if (len(category[\"categories\"]) > 0):\n",
    "            categoriesDict = checkPrimaryCategoryByLevel(category[\"categories\"], categoriesDict, primaryCategory)\n",
    "    return categoriesDict\n",
    "\n",
    "# This is the code for 1st level categories\n",
    "primaryCategoriesDict = {}\n",
    "for category in categories_json[\"categories\"]:\n",
    "    primaryCategoriesDict[category[\"name\"]] = category[\"name\"]\n",
    "    if (len(category[\"categories\"]) > 0):\n",
    "        primaryCategoriesDict = checkPrimaryCategoryByLevel(category[\"categories\"], primaryCategoriesDict, category[\"name\"])\n",
    "\n",
    "# This is the code for 2nd level categories\n",
    "secondCategoriesDict = {}\n",
    "for category in categories_json[\"categories\"]:\n",
    "    secondCategoriesDict[category[\"name\"]] = category[\"name\"]\n",
    "    if (len(category[\"categories\"]) > 0):\n",
    "        for second_category in category[\"categories\"]:\n",
    "            secondCategoriesDict[second_category[\"name\"]] = second_category[\"name\"]\n",
    "            if (len(second_category[\"categories\"]) > 0):\n",
    "                secondCategoriesDict = checkPrimaryCategoryByLevel(second_category[\"categories\"], secondCategoriesDict, second_category[\"name\"])\n",
    "        \n"
   ]
  },
  {
   "cell_type": "markdown",
   "metadata": {},
   "source": [
    "And now I'll apply this newly created dictionary over the dataframe of Toronto venues in order to translate venue categories to primary or secondary categories."
   ]
  },
  {
   "cell_type": "code",
   "execution_count": 22,
   "metadata": {},
   "outputs": [],
   "source": [
    "def translateVenueToPrimaryCategory(row):\n",
    "    return primaryCategoriesDict[row[\"Venue Category\"]]\n",
    "\n",
    "def translateVenueToSecondaryCategory(row):\n",
    "    return secondCategoriesDict[row[\"Venue Category\"]]\n",
    "\n",
    "df_toronto_venues[\"Venue Category\"] = df_toronto_venues.apply(translateVenueToSecondaryCategory, axis=1)"
   ]
  },
  {
   "cell_type": "markdown",
   "metadata": {},
   "source": [
    "We can check the categories translation has been done correctly by checking again the number of categories, this time smaller and easier to manage (less than 10 in case of primary categories, over 200 in case of secondary categories)."
   ]
  },
  {
   "cell_type": "code",
   "execution_count": 23,
   "metadata": {},
   "outputs": [
    {
     "data": {
      "text/plain": [
       "(215,)"
      ]
     },
     "execution_count": 23,
     "metadata": {},
     "output_type": "execute_result"
    }
   ],
   "source": [
    "df_toronto_venues[\"Venue Category\"].unique().shape"
   ]
  },
  {
   "cell_type": "markdown",
   "metadata": {},
   "source": [
    "Now I'll transform the column \"Venue Category\" into multiple boolean columns through one-hot encoding"
   ]
  },
  {
   "cell_type": "code",
   "execution_count": 24,
   "metadata": {},
   "outputs": [],
   "source": [
    "df_toronto_venues_onehot = pd.get_dummies(df_toronto_venues[['Venue Category']], prefix=\"\", prefix_sep=\"\")\n",
    "df_toronto_venues_onehot['PostalCode'] = df_toronto_venues['PostalCode'] \n",
    "df_toronto_venues_onehot['Venue'] = df_toronto_venues['Venue'] \n",
    "df_toronto_venues_onehot = df_toronto_venues.merge(df_toronto_venues_onehot, on=['PostalCode', 'Venue'])\n",
    "df_toronto_venues_onehot.drop(['Venue Category'], axis=1, inplace=True)"
   ]
  },
  {
   "cell_type": "markdown",
   "metadata": {},
   "source": [
    "Now I'll check the resultant Toronto venues dataframe with one-hot encoding:"
   ]
  },
  {
   "cell_type": "code",
   "execution_count": 25,
   "metadata": {},
   "outputs": [
    {
     "data": {
      "text/html": [
       "<div>\n",
       "<style scoped>\n",
       "    .dataframe tbody tr th:only-of-type {\n",
       "        vertical-align: middle;\n",
       "    }\n",
       "\n",
       "    .dataframe tbody tr th {\n",
       "        vertical-align: top;\n",
       "    }\n",
       "\n",
       "    .dataframe thead th {\n",
       "        text-align: right;\n",
       "    }\n",
       "</style>\n",
       "<table border=\"1\" class=\"dataframe\">\n",
       "  <thead>\n",
       "    <tr style=\"text-align: right;\">\n",
       "      <th></th>\n",
       "      <th>PostalCode</th>\n",
       "      <th>Borough</th>\n",
       "      <th>Neighborhood</th>\n",
       "      <th>Neighborhood Latitude</th>\n",
       "      <th>Neighborhood Longitude</th>\n",
       "      <th>Venue</th>\n",
       "      <th>Venue Latitude</th>\n",
       "      <th>Venue Longitude</th>\n",
       "      <th>Afghan Restaurant</th>\n",
       "      <th>African Restaurant</th>\n",
       "      <th>...</th>\n",
       "      <th>Trail</th>\n",
       "      <th>Train Station</th>\n",
       "      <th>Turkish Restaurant</th>\n",
       "      <th>University</th>\n",
       "      <th>Vegetarian / Vegan Restaurant</th>\n",
       "      <th>Video Game Store</th>\n",
       "      <th>Video Store</th>\n",
       "      <th>Warehouse Store</th>\n",
       "      <th>Wings Joint</th>\n",
       "      <th>Zoo</th>\n",
       "    </tr>\n",
       "  </thead>\n",
       "  <tbody>\n",
       "    <tr>\n",
       "      <th>0</th>\n",
       "      <td>M3A</td>\n",
       "      <td>North York</td>\n",
       "      <td>Parkwoods</td>\n",
       "      <td>43.753259</td>\n",
       "      <td>-79.329656</td>\n",
       "      <td>Allwyn's Bakery</td>\n",
       "      <td>43.759840</td>\n",
       "      <td>-79.324719</td>\n",
       "      <td>0</td>\n",
       "      <td>0</td>\n",
       "      <td>...</td>\n",
       "      <td>0</td>\n",
       "      <td>0</td>\n",
       "      <td>0</td>\n",
       "      <td>0</td>\n",
       "      <td>0</td>\n",
       "      <td>0</td>\n",
       "      <td>0</td>\n",
       "      <td>0</td>\n",
       "      <td>0</td>\n",
       "      <td>0</td>\n",
       "    </tr>\n",
       "    <tr>\n",
       "      <th>1</th>\n",
       "      <td>M3A</td>\n",
       "      <td>North York</td>\n",
       "      <td>Parkwoods</td>\n",
       "      <td>43.753259</td>\n",
       "      <td>-79.329656</td>\n",
       "      <td>Tim Hortons</td>\n",
       "      <td>43.760668</td>\n",
       "      <td>-79.326368</td>\n",
       "      <td>0</td>\n",
       "      <td>0</td>\n",
       "      <td>...</td>\n",
       "      <td>0</td>\n",
       "      <td>0</td>\n",
       "      <td>0</td>\n",
       "      <td>0</td>\n",
       "      <td>0</td>\n",
       "      <td>0</td>\n",
       "      <td>0</td>\n",
       "      <td>0</td>\n",
       "      <td>0</td>\n",
       "      <td>0</td>\n",
       "    </tr>\n",
       "    <tr>\n",
       "      <th>2</th>\n",
       "      <td>M3A</td>\n",
       "      <td>North York</td>\n",
       "      <td>Parkwoods</td>\n",
       "      <td>43.753259</td>\n",
       "      <td>-79.329656</td>\n",
       "      <td>Tim Hortons</td>\n",
       "      <td>43.760668</td>\n",
       "      <td>-79.326368</td>\n",
       "      <td>0</td>\n",
       "      <td>0</td>\n",
       "      <td>...</td>\n",
       "      <td>0</td>\n",
       "      <td>0</td>\n",
       "      <td>0</td>\n",
       "      <td>0</td>\n",
       "      <td>0</td>\n",
       "      <td>0</td>\n",
       "      <td>0</td>\n",
       "      <td>0</td>\n",
       "      <td>0</td>\n",
       "      <td>0</td>\n",
       "    </tr>\n",
       "    <tr>\n",
       "      <th>3</th>\n",
       "      <td>M3A</td>\n",
       "      <td>North York</td>\n",
       "      <td>Parkwoods</td>\n",
       "      <td>43.753259</td>\n",
       "      <td>-79.329656</td>\n",
       "      <td>Tim Hortons</td>\n",
       "      <td>43.760668</td>\n",
       "      <td>-79.326368</td>\n",
       "      <td>0</td>\n",
       "      <td>0</td>\n",
       "      <td>...</td>\n",
       "      <td>0</td>\n",
       "      <td>0</td>\n",
       "      <td>0</td>\n",
       "      <td>0</td>\n",
       "      <td>0</td>\n",
       "      <td>0</td>\n",
       "      <td>0</td>\n",
       "      <td>0</td>\n",
       "      <td>0</td>\n",
       "      <td>0</td>\n",
       "    </tr>\n",
       "    <tr>\n",
       "      <th>4</th>\n",
       "      <td>M3A</td>\n",
       "      <td>North York</td>\n",
       "      <td>Parkwoods</td>\n",
       "      <td>43.753259</td>\n",
       "      <td>-79.329656</td>\n",
       "      <td>Tim Hortons</td>\n",
       "      <td>43.752814</td>\n",
       "      <td>-79.314067</td>\n",
       "      <td>0</td>\n",
       "      <td>0</td>\n",
       "      <td>...</td>\n",
       "      <td>0</td>\n",
       "      <td>0</td>\n",
       "      <td>0</td>\n",
       "      <td>0</td>\n",
       "      <td>0</td>\n",
       "      <td>0</td>\n",
       "      <td>0</td>\n",
       "      <td>0</td>\n",
       "      <td>0</td>\n",
       "      <td>0</td>\n",
       "    </tr>\n",
       "  </tbody>\n",
       "</table>\n",
       "<p>5 rows × 223 columns</p>\n",
       "</div>"
      ],
      "text/plain": [
       "  PostalCode     Borough Neighborhood  Neighborhood Latitude  \\\n",
       "0        M3A  North York    Parkwoods              43.753259   \n",
       "1        M3A  North York    Parkwoods              43.753259   \n",
       "2        M3A  North York    Parkwoods              43.753259   \n",
       "3        M3A  North York    Parkwoods              43.753259   \n",
       "4        M3A  North York    Parkwoods              43.753259   \n",
       "\n",
       "   Neighborhood Longitude            Venue  Venue Latitude  Venue Longitude  \\\n",
       "0              -79.329656  Allwyn's Bakery       43.759840       -79.324719   \n",
       "1              -79.329656      Tim Hortons       43.760668       -79.326368   \n",
       "2              -79.329656      Tim Hortons       43.760668       -79.326368   \n",
       "3              -79.329656      Tim Hortons       43.760668       -79.326368   \n",
       "4              -79.329656      Tim Hortons       43.752814       -79.314067   \n",
       "\n",
       "   Afghan Restaurant  African Restaurant  ...  Trail  Train Station  \\\n",
       "0                  0                   0  ...      0              0   \n",
       "1                  0                   0  ...      0              0   \n",
       "2                  0                   0  ...      0              0   \n",
       "3                  0                   0  ...      0              0   \n",
       "4                  0                   0  ...      0              0   \n",
       "\n",
       "   Turkish Restaurant  University  Vegetarian / Vegan Restaurant  \\\n",
       "0                   0           0                              0   \n",
       "1                   0           0                              0   \n",
       "2                   0           0                              0   \n",
       "3                   0           0                              0   \n",
       "4                   0           0                              0   \n",
       "\n",
       "   Video Game Store  Video Store  Warehouse Store  Wings Joint  Zoo  \n",
       "0                 0            0                0            0    0  \n",
       "1                 0            0                0            0    0  \n",
       "2                 0            0                0            0    0  \n",
       "3                 0            0                0            0    0  \n",
       "4                 0            0                0            0    0  \n",
       "\n",
       "[5 rows x 223 columns]"
      ]
     },
     "execution_count": 25,
     "metadata": {},
     "output_type": "execute_result"
    }
   ],
   "source": [
    "df_toronto_venues_onehot.head()"
   ]
  },
  {
   "cell_type": "markdown",
   "metadata": {},
   "source": [
    "Now I'll update a copy of the Toronto neighborhoods dataframe by taking the mean of the frequency of occurrence of each category. I'll will also add a column with the number of venues at each neighborhood. "
   ]
  },
  {
   "cell_type": "code",
   "execution_count": 26,
   "metadata": {},
   "outputs": [],
   "source": [
    "df_toronto_neighborhoods_freq_venues = df_toronto_venues_onehot.groupby('PostalCode').mean().reset_index()\n",
    "df_toronto_neighborhoods_extended = df_toronto_neighborhoods.copy(deep=True)\n",
    "df_toronto_neighborhoods_extended = df_toronto_neighborhoods_extended.merge(\n",
    "    df_toronto_venues_onehot.groupby('PostalCode').count().reset_index()[['PostalCode', 'Borough']].rename(columns={\"Borough\": \"Total Venues\"}),\n",
    "    on='PostalCode')\n",
    "df_toronto_neighborhoods_extended = df_toronto_neighborhoods_extended.merge(df_toronto_neighborhoods_freq_venues, on='PostalCode')\n",
    "df_toronto_neighborhoods_extended.drop(['Neighborhood Latitude', 'Neighborhood Longitude', 'Venue Latitude', 'Venue Longitude'], axis=1, inplace=True)"
   ]
  },
  {
   "cell_type": "markdown",
   "metadata": {},
   "source": [
    "Now I'll check the resultant Toronto neighborhoods dataframe:"
   ]
  },
  {
   "cell_type": "code",
   "execution_count": 27,
   "metadata": {},
   "outputs": [
    {
     "data": {
      "text/html": [
       "<div>\n",
       "<style scoped>\n",
       "    .dataframe tbody tr th:only-of-type {\n",
       "        vertical-align: middle;\n",
       "    }\n",
       "\n",
       "    .dataframe tbody tr th {\n",
       "        vertical-align: top;\n",
       "    }\n",
       "\n",
       "    .dataframe thead th {\n",
       "        text-align: right;\n",
       "    }\n",
       "</style>\n",
       "<table border=\"1\" class=\"dataframe\">\n",
       "  <thead>\n",
       "    <tr style=\"text-align: right;\">\n",
       "      <th></th>\n",
       "      <th>PostalCode</th>\n",
       "      <th>Borough</th>\n",
       "      <th>Neighborhood</th>\n",
       "      <th>Latitude</th>\n",
       "      <th>Longitude</th>\n",
       "      <th>Total Venues</th>\n",
       "      <th>Afghan Restaurant</th>\n",
       "      <th>African Restaurant</th>\n",
       "      <th>Airport</th>\n",
       "      <th>American Restaurant</th>\n",
       "      <th>...</th>\n",
       "      <th>Trail</th>\n",
       "      <th>Train Station</th>\n",
       "      <th>Turkish Restaurant</th>\n",
       "      <th>University</th>\n",
       "      <th>Vegetarian / Vegan Restaurant</th>\n",
       "      <th>Video Game Store</th>\n",
       "      <th>Video Store</th>\n",
       "      <th>Warehouse Store</th>\n",
       "      <th>Wings Joint</th>\n",
       "      <th>Zoo</th>\n",
       "    </tr>\n",
       "  </thead>\n",
       "  <tbody>\n",
       "    <tr>\n",
       "      <th>0</th>\n",
       "      <td>M3A</td>\n",
       "      <td>North York</td>\n",
       "      <td>Parkwoods</td>\n",
       "      <td>43.753259</td>\n",
       "      <td>-79.329656</td>\n",
       "      <td>120</td>\n",
       "      <td>0.000000</td>\n",
       "      <td>0.008333</td>\n",
       "      <td>0.000000</td>\n",
       "      <td>0.016667</td>\n",
       "      <td>...</td>\n",
       "      <td>0.0</td>\n",
       "      <td>0.0</td>\n",
       "      <td>0.000000</td>\n",
       "      <td>0.0</td>\n",
       "      <td>0.000000</td>\n",
       "      <td>0.0</td>\n",
       "      <td>0.00000</td>\n",
       "      <td>0.000000</td>\n",
       "      <td>0.0</td>\n",
       "      <td>0.0</td>\n",
       "    </tr>\n",
       "    <tr>\n",
       "      <th>1</th>\n",
       "      <td>M4A</td>\n",
       "      <td>North York</td>\n",
       "      <td>Victoria Village</td>\n",
       "      <td>43.725882</td>\n",
       "      <td>-79.315572</td>\n",
       "      <td>106</td>\n",
       "      <td>0.009434</td>\n",
       "      <td>0.009434</td>\n",
       "      <td>0.000000</td>\n",
       "      <td>0.018868</td>\n",
       "      <td>...</td>\n",
       "      <td>0.0</td>\n",
       "      <td>0.0</td>\n",
       "      <td>0.018868</td>\n",
       "      <td>0.0</td>\n",
       "      <td>0.009434</td>\n",
       "      <td>0.0</td>\n",
       "      <td>0.00000</td>\n",
       "      <td>0.009434</td>\n",
       "      <td>0.0</td>\n",
       "      <td>0.0</td>\n",
       "    </tr>\n",
       "    <tr>\n",
       "      <th>2</th>\n",
       "      <td>M5A</td>\n",
       "      <td>Downtown Toronto</td>\n",
       "      <td>Regent Park, Harbourfront</td>\n",
       "      <td>43.654260</td>\n",
       "      <td>-79.360636</td>\n",
       "      <td>104</td>\n",
       "      <td>0.000000</td>\n",
       "      <td>0.000000</td>\n",
       "      <td>0.000000</td>\n",
       "      <td>0.000000</td>\n",
       "      <td>...</td>\n",
       "      <td>0.0</td>\n",
       "      <td>0.0</td>\n",
       "      <td>0.000000</td>\n",
       "      <td>0.0</td>\n",
       "      <td>0.000000</td>\n",
       "      <td>0.0</td>\n",
       "      <td>0.00000</td>\n",
       "      <td>0.000000</td>\n",
       "      <td>0.0</td>\n",
       "      <td>0.0</td>\n",
       "    </tr>\n",
       "    <tr>\n",
       "      <th>3</th>\n",
       "      <td>M6A</td>\n",
       "      <td>North York</td>\n",
       "      <td>Lawrence Manor, Lawrence Heights</td>\n",
       "      <td>43.718518</td>\n",
       "      <td>-79.464763</td>\n",
       "      <td>106</td>\n",
       "      <td>0.000000</td>\n",
       "      <td>0.000000</td>\n",
       "      <td>0.009434</td>\n",
       "      <td>0.018868</td>\n",
       "      <td>...</td>\n",
       "      <td>0.0</td>\n",
       "      <td>0.0</td>\n",
       "      <td>0.018868</td>\n",
       "      <td>0.0</td>\n",
       "      <td>0.000000</td>\n",
       "      <td>0.0</td>\n",
       "      <td>0.00000</td>\n",
       "      <td>0.009434</td>\n",
       "      <td>0.0</td>\n",
       "      <td>0.0</td>\n",
       "    </tr>\n",
       "    <tr>\n",
       "      <th>4</th>\n",
       "      <td>M7A</td>\n",
       "      <td>Downtown Toronto</td>\n",
       "      <td>Queen's Park, Ontario Provincial Government</td>\n",
       "      <td>43.662301</td>\n",
       "      <td>-79.389494</td>\n",
       "      <td>123</td>\n",
       "      <td>0.000000</td>\n",
       "      <td>0.008130</td>\n",
       "      <td>0.000000</td>\n",
       "      <td>0.000000</td>\n",
       "      <td>...</td>\n",
       "      <td>0.0</td>\n",
       "      <td>0.0</td>\n",
       "      <td>0.000000</td>\n",
       "      <td>0.0</td>\n",
       "      <td>0.000000</td>\n",
       "      <td>0.0</td>\n",
       "      <td>0.00813</td>\n",
       "      <td>0.000000</td>\n",
       "      <td>0.0</td>\n",
       "      <td>0.0</td>\n",
       "    </tr>\n",
       "  </tbody>\n",
       "</table>\n",
       "<p>5 rows × 221 columns</p>\n",
       "</div>"
      ],
      "text/plain": [
       "  PostalCode           Borough                                 Neighborhood  \\\n",
       "0        M3A        North York                                    Parkwoods   \n",
       "1        M4A        North York                             Victoria Village   \n",
       "2        M5A  Downtown Toronto                    Regent Park, Harbourfront   \n",
       "3        M6A        North York             Lawrence Manor, Lawrence Heights   \n",
       "4        M7A  Downtown Toronto  Queen's Park, Ontario Provincial Government   \n",
       "\n",
       "    Latitude  Longitude  Total Venues  Afghan Restaurant  African Restaurant  \\\n",
       "0  43.753259 -79.329656           120           0.000000            0.008333   \n",
       "1  43.725882 -79.315572           106           0.009434            0.009434   \n",
       "2  43.654260 -79.360636           104           0.000000            0.000000   \n",
       "3  43.718518 -79.464763           106           0.000000            0.000000   \n",
       "4  43.662301 -79.389494           123           0.000000            0.008130   \n",
       "\n",
       "    Airport  American Restaurant  ...  Trail  Train Station  \\\n",
       "0  0.000000             0.016667  ...    0.0            0.0   \n",
       "1  0.000000             0.018868  ...    0.0            0.0   \n",
       "2  0.000000             0.000000  ...    0.0            0.0   \n",
       "3  0.009434             0.018868  ...    0.0            0.0   \n",
       "4  0.000000             0.000000  ...    0.0            0.0   \n",
       "\n",
       "   Turkish Restaurant  University  Vegetarian / Vegan Restaurant  \\\n",
       "0            0.000000         0.0                       0.000000   \n",
       "1            0.018868         0.0                       0.009434   \n",
       "2            0.000000         0.0                       0.000000   \n",
       "3            0.018868         0.0                       0.000000   \n",
       "4            0.000000         0.0                       0.000000   \n",
       "\n",
       "   Video Game Store  Video Store  Warehouse Store  Wings Joint  Zoo  \n",
       "0               0.0      0.00000         0.000000          0.0  0.0  \n",
       "1               0.0      0.00000         0.009434          0.0  0.0  \n",
       "2               0.0      0.00000         0.000000          0.0  0.0  \n",
       "3               0.0      0.00000         0.009434          0.0  0.0  \n",
       "4               0.0      0.00813         0.000000          0.0  0.0  \n",
       "\n",
       "[5 rows x 221 columns]"
      ]
     },
     "execution_count": 27,
     "metadata": {},
     "output_type": "execute_result"
    }
   ],
   "source": [
    "df_toronto_neighborhoods_extended.head()"
   ]
  },
  {
   "cell_type": "markdown",
   "metadata": {},
   "source": [
    "Now I'll cluster the neighborhoods using the K-Means algorithm.The clusterization will be based on the frequency of the different types of venues. different number of clusters will be test in order to get the number of clusters with better results."
   ]
  },
  {
   "cell_type": "code",
   "execution_count": 28,
   "metadata": {},
   "outputs": [],
   "source": [
    "# set number of clusters\n",
    "kclusters = 5\n",
    "\n",
    "df_toronto_neighborhoods_clustering = df_toronto_neighborhoods_extended.drop(['PostalCode', 'Borough', 'Neighborhood', 'Latitude', 'Longitude', 'Total Venues'], axis=1)\n",
    "\n",
    "# run k-means clustering\n",
    "kmeans = KMeans(n_clusters=kclusters, random_state=0).fit(df_toronto_neighborhoods_clustering)"
   ]
  },
  {
   "cell_type": "markdown",
   "metadata": {},
   "source": [
    "Now check the resultant labels:"
   ]
  },
  {
   "cell_type": "code",
   "execution_count": 29,
   "metadata": {},
   "outputs": [
    {
     "data": {
      "text/plain": [
       "array([1, 1, 1, 1, 3, 0, 0, 1, 1, 1, 1, 1, 0, 1, 0, 4, 1, 1, 0, 4, 4, 1,\n",
       "       3, 1, 1, 4, 0, 2, 3, 1, 4, 4, 3, 0, 3, 4, 1, 4, 1, 2, 1, 4, 4, 4,\n",
       "       1, 1, 3, 4, 3, 1, 3, 0, 2, 1, 4, 1, 1, 0, 1, 2, 3, 3, 3, 4, 0, 0,\n",
       "       1, 1, 3, 4, 0, 1, 2, 1, 4, 4, 0, 0, 2, 1, 4, 4, 2, 4, 4, 2, 1, 4,\n",
       "       1, 3, 2, 1, 1, 1, 3, 0, 4, 4, 1, 1, 4, 4, 1], dtype=int32)"
      ]
     },
     "execution_count": 29,
     "metadata": {},
     "output_type": "execute_result"
    }
   ],
   "source": [
    "kmeans.labels_"
   ]
  },
  {
   "cell_type": "markdown",
   "metadata": {},
   "source": [
    "Now add the labels to a copy of the Toronto neighborhoods dataframe."
   ]
  },
  {
   "cell_type": "code",
   "execution_count": 30,
   "metadata": {},
   "outputs": [
    {
     "data": {
      "text/html": [
       "<div>\n",
       "<style scoped>\n",
       "    .dataframe tbody tr th:only-of-type {\n",
       "        vertical-align: middle;\n",
       "    }\n",
       "\n",
       "    .dataframe tbody tr th {\n",
       "        vertical-align: top;\n",
       "    }\n",
       "\n",
       "    .dataframe thead th {\n",
       "        text-align: right;\n",
       "    }\n",
       "</style>\n",
       "<table border=\"1\" class=\"dataframe\">\n",
       "  <thead>\n",
       "    <tr style=\"text-align: right;\">\n",
       "      <th></th>\n",
       "      <th>PostalCode</th>\n",
       "      <th>Borough</th>\n",
       "      <th>Neighborhood</th>\n",
       "      <th>Latitude</th>\n",
       "      <th>Longitude</th>\n",
       "      <th>Total Venues</th>\n",
       "      <th>Cluster Label</th>\n",
       "      <th>Afghan Restaurant</th>\n",
       "      <th>African Restaurant</th>\n",
       "      <th>Airport</th>\n",
       "      <th>...</th>\n",
       "      <th>Trail</th>\n",
       "      <th>Train Station</th>\n",
       "      <th>Turkish Restaurant</th>\n",
       "      <th>University</th>\n",
       "      <th>Vegetarian / Vegan Restaurant</th>\n",
       "      <th>Video Game Store</th>\n",
       "      <th>Video Store</th>\n",
       "      <th>Warehouse Store</th>\n",
       "      <th>Wings Joint</th>\n",
       "      <th>Zoo</th>\n",
       "    </tr>\n",
       "  </thead>\n",
       "  <tbody>\n",
       "    <tr>\n",
       "      <th>0</th>\n",
       "      <td>M3A</td>\n",
       "      <td>North York</td>\n",
       "      <td>Parkwoods</td>\n",
       "      <td>43.753259</td>\n",
       "      <td>-79.329656</td>\n",
       "      <td>120</td>\n",
       "      <td>1</td>\n",
       "      <td>0.000000</td>\n",
       "      <td>0.008333</td>\n",
       "      <td>0.000000</td>\n",
       "      <td>...</td>\n",
       "      <td>0.0</td>\n",
       "      <td>0.0</td>\n",
       "      <td>0.000000</td>\n",
       "      <td>0.0</td>\n",
       "      <td>0.000000</td>\n",
       "      <td>0.0</td>\n",
       "      <td>0.00000</td>\n",
       "      <td>0.000000</td>\n",
       "      <td>0.0</td>\n",
       "      <td>0.0</td>\n",
       "    </tr>\n",
       "    <tr>\n",
       "      <th>1</th>\n",
       "      <td>M4A</td>\n",
       "      <td>North York</td>\n",
       "      <td>Victoria Village</td>\n",
       "      <td>43.725882</td>\n",
       "      <td>-79.315572</td>\n",
       "      <td>106</td>\n",
       "      <td>1</td>\n",
       "      <td>0.009434</td>\n",
       "      <td>0.009434</td>\n",
       "      <td>0.000000</td>\n",
       "      <td>...</td>\n",
       "      <td>0.0</td>\n",
       "      <td>0.0</td>\n",
       "      <td>0.018868</td>\n",
       "      <td>0.0</td>\n",
       "      <td>0.009434</td>\n",
       "      <td>0.0</td>\n",
       "      <td>0.00000</td>\n",
       "      <td>0.009434</td>\n",
       "      <td>0.0</td>\n",
       "      <td>0.0</td>\n",
       "    </tr>\n",
       "    <tr>\n",
       "      <th>2</th>\n",
       "      <td>M5A</td>\n",
       "      <td>Downtown Toronto</td>\n",
       "      <td>Regent Park, Harbourfront</td>\n",
       "      <td>43.654260</td>\n",
       "      <td>-79.360636</td>\n",
       "      <td>104</td>\n",
       "      <td>1</td>\n",
       "      <td>0.000000</td>\n",
       "      <td>0.000000</td>\n",
       "      <td>0.000000</td>\n",
       "      <td>...</td>\n",
       "      <td>0.0</td>\n",
       "      <td>0.0</td>\n",
       "      <td>0.000000</td>\n",
       "      <td>0.0</td>\n",
       "      <td>0.000000</td>\n",
       "      <td>0.0</td>\n",
       "      <td>0.00000</td>\n",
       "      <td>0.000000</td>\n",
       "      <td>0.0</td>\n",
       "      <td>0.0</td>\n",
       "    </tr>\n",
       "    <tr>\n",
       "      <th>3</th>\n",
       "      <td>M6A</td>\n",
       "      <td>North York</td>\n",
       "      <td>Lawrence Manor, Lawrence Heights</td>\n",
       "      <td>43.718518</td>\n",
       "      <td>-79.464763</td>\n",
       "      <td>106</td>\n",
       "      <td>1</td>\n",
       "      <td>0.000000</td>\n",
       "      <td>0.000000</td>\n",
       "      <td>0.009434</td>\n",
       "      <td>...</td>\n",
       "      <td>0.0</td>\n",
       "      <td>0.0</td>\n",
       "      <td>0.018868</td>\n",
       "      <td>0.0</td>\n",
       "      <td>0.000000</td>\n",
       "      <td>0.0</td>\n",
       "      <td>0.00000</td>\n",
       "      <td>0.009434</td>\n",
       "      <td>0.0</td>\n",
       "      <td>0.0</td>\n",
       "    </tr>\n",
       "    <tr>\n",
       "      <th>4</th>\n",
       "      <td>M7A</td>\n",
       "      <td>Downtown Toronto</td>\n",
       "      <td>Queen's Park, Ontario Provincial Government</td>\n",
       "      <td>43.662301</td>\n",
       "      <td>-79.389494</td>\n",
       "      <td>123</td>\n",
       "      <td>3</td>\n",
       "      <td>0.000000</td>\n",
       "      <td>0.008130</td>\n",
       "      <td>0.000000</td>\n",
       "      <td>...</td>\n",
       "      <td>0.0</td>\n",
       "      <td>0.0</td>\n",
       "      <td>0.000000</td>\n",
       "      <td>0.0</td>\n",
       "      <td>0.000000</td>\n",
       "      <td>0.0</td>\n",
       "      <td>0.00813</td>\n",
       "      <td>0.000000</td>\n",
       "      <td>0.0</td>\n",
       "      <td>0.0</td>\n",
       "    </tr>\n",
       "  </tbody>\n",
       "</table>\n",
       "<p>5 rows × 222 columns</p>\n",
       "</div>"
      ],
      "text/plain": [
       "  PostalCode           Borough                                 Neighborhood  \\\n",
       "0        M3A        North York                                    Parkwoods   \n",
       "1        M4A        North York                             Victoria Village   \n",
       "2        M5A  Downtown Toronto                    Regent Park, Harbourfront   \n",
       "3        M6A        North York             Lawrence Manor, Lawrence Heights   \n",
       "4        M7A  Downtown Toronto  Queen's Park, Ontario Provincial Government   \n",
       "\n",
       "    Latitude  Longitude  Total Venues  Cluster Label  Afghan Restaurant  \\\n",
       "0  43.753259 -79.329656           120              1           0.000000   \n",
       "1  43.725882 -79.315572           106              1           0.009434   \n",
       "2  43.654260 -79.360636           104              1           0.000000   \n",
       "3  43.718518 -79.464763           106              1           0.000000   \n",
       "4  43.662301 -79.389494           123              3           0.000000   \n",
       "\n",
       "   African Restaurant   Airport  ...  Trail  Train Station  \\\n",
       "0            0.008333  0.000000  ...    0.0            0.0   \n",
       "1            0.009434  0.000000  ...    0.0            0.0   \n",
       "2            0.000000  0.000000  ...    0.0            0.0   \n",
       "3            0.000000  0.009434  ...    0.0            0.0   \n",
       "4            0.008130  0.000000  ...    0.0            0.0   \n",
       "\n",
       "   Turkish Restaurant  University  Vegetarian / Vegan Restaurant  \\\n",
       "0            0.000000         0.0                       0.000000   \n",
       "1            0.018868         0.0                       0.009434   \n",
       "2            0.000000         0.0                       0.000000   \n",
       "3            0.018868         0.0                       0.000000   \n",
       "4            0.000000         0.0                       0.000000   \n",
       "\n",
       "   Video Game Store  Video Store  Warehouse Store  Wings Joint  Zoo  \n",
       "0               0.0      0.00000         0.000000          0.0  0.0  \n",
       "1               0.0      0.00000         0.009434          0.0  0.0  \n",
       "2               0.0      0.00000         0.000000          0.0  0.0  \n",
       "3               0.0      0.00000         0.009434          0.0  0.0  \n",
       "4               0.0      0.00813         0.000000          0.0  0.0  \n",
       "\n",
       "[5 rows x 222 columns]"
      ]
     },
     "execution_count": 30,
     "metadata": {},
     "output_type": "execute_result"
    }
   ],
   "source": [
    "df_toronto_neighborhoods_clustered = df_toronto_neighborhoods_extended.copy(deep=True)\n",
    "df_toronto_neighborhoods_clustered.insert(6, 'Cluster Label', kmeans.labels_)\n",
    "df_toronto_neighborhoods_clustered.head()"
   ]
  },
  {
   "cell_type": "markdown",
   "metadata": {},
   "source": [
    "Let's analyze the characteristics of each cluster by getting the mean of the frequency of each type of venue inside the cluster and printing the top 5 venues at each cluster:"
   ]
  },
  {
   "cell_type": "code",
   "execution_count": 33,
   "metadata": {},
   "outputs": [
    {
     "name": "stdout",
     "output_type": "stream",
     "text": [
      "---- Cluster 0 ----\n",
      "Average number of venues: 166\n",
      "Neighborhoods in the cluster: 15\n",
      "               venue  freq\n",
      "0        Coffee Shop  0.16\n",
      "1           Pharmacy  0.10\n",
      "2     Sandwich Place  0.07\n",
      "3               Bank  0.07\n",
      "4  Food & Drink Shop  0.07\n",
      "\n",
      "\n",
      "---- Cluster 1 ----\n",
      "Average number of venues: 115\n",
      "Neighborhoods in the cluster: 39\n",
      "                venue  freq\n",
      "0         Coffee Shop  0.15\n",
      "1   Food & Drink Shop  0.08\n",
      "2    Asian Restaurant  0.07\n",
      "3  Athletics & Sports  0.04\n",
      "4        Dessert Shop  0.03\n",
      "\n",
      "\n",
      "---- Cluster 2 ----\n",
      "Average number of venues: 110\n",
      "Neighborhoods in the cluster: 9\n",
      "               venue  freq\n",
      "0   Asian Restaurant  0.22\n",
      "1        Coffee Shop  0.10\n",
      "2  Food & Drink Shop  0.09\n",
      "3               Bank  0.05\n",
      "4           Pharmacy  0.03\n",
      "\n",
      "\n",
      "---- Cluster 3 ----\n",
      "Average number of venues: 185\n",
      "Neighborhoods in the cluster: 14\n",
      "                venue  freq\n",
      "0         Coffee Shop  0.40\n",
      "1      Sandwich Place  0.05\n",
      "2    Asian Restaurant  0.05\n",
      "3  Athletics & Sports  0.03\n",
      "4   Food & Drink Shop  0.03\n",
      "\n",
      "\n",
      "---- Cluster 4 ----\n",
      "Average number of venues: 102\n",
      "Neighborhoods in the cluster: 26\n",
      "                venue  freq\n",
      "0         Coffee Shop  0.07\n",
      "1                 Bar  0.07\n",
      "2                Café  0.07\n",
      "3    Asian Restaurant  0.07\n",
      "4  Italian Restaurant  0.04\n",
      "\n",
      "\n"
     ]
    }
   ],
   "source": [
    "num_top_venues = 5\n",
    "df_toronto_clusters = df_toronto_neighborhoods_clustered.groupby('Cluster Label').mean().reset_index()\n",
    "df_toronto_clusters.drop(['Latitude', 'Longitude'], axis=1, inplace=True)\n",
    "for cluster in range(kclusters):\n",
    "    print(\"---- Cluster \" + str(cluster) + \" ----\")\n",
    "    print(\"Average number of venues: \" + str(round(df_toronto_clusters[df_toronto_clusters['Cluster Label'] == cluster].iloc[0]['Total Venues'])))\n",
    "    print(\"Neighborhoods in the cluster: \" + str(df_toronto_neighborhoods_clustered[df_toronto_neighborhoods_clustered['Cluster Label'] == cluster].shape[0]))\n",
    "    temp = df_toronto_clusters[df_toronto_clusters['Cluster Label'] == cluster].drop(['Total Venues'], axis=1).T.reset_index()\n",
    "    temp.columns = ['venue','freq']\n",
    "    temp = temp.iloc[1:]\n",
    "    temp['freq'] = temp['freq'].astype(float)\n",
    "    temp = temp.round({'freq': 2})\n",
    "    print(temp.sort_values('freq', ascending=False).reset_index(drop=True).head(num_top_venues))\n",
    "    print('\\n')"
   ]
  },
  {
   "cell_type": "markdown",
   "metadata": {},
   "source": [
    "Based on the information shown previously, these are the clusters:\n",
    "\n",
    "- Cluster 0: Many venues, most of them coffee shops and pharmacies.\n",
    "- Cluster 1: Few venues, mostly for shopping and transportation.\n",
    "- Cluster 2: Few venues\n",
    "- Cluster 3: \n",
    "- Cluster 4:  \n"
   ]
  },
  {
   "cell_type": "markdown",
   "metadata": {},
   "source": [
    "Finally, show the neighborhoods and the clusters assigned to each neighborhood in a map:"
   ]
  },
  {
   "cell_type": "code",
   "execution_count": 32,
   "metadata": {},
   "outputs": [
    {
     "data": {
      "text/html": [
       "<div style=\"width:100%;\"><div style=\"position:relative;width:100%;height:0;padding-bottom:60%;\"><span style=\"color:#565656\">Make this Notebook Trusted to load map: File -> Trust Notebook</span><iframe src=\"about:blank\" style=\"position:absolute;width:100%;height:100%;left:0;top:0;border:none !important;\" data-html=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 onload=\"this.contentDocument.open();this.contentDocument.write(atob(this.getAttribute('data-html')));this.contentDocument.close();\" allowfullscreen webkitallowfullscreen mozallowfullscreen></iframe></div></div>"
      ],
      "text/plain": [
       "<folium.folium.Map at 0x7f8d69e86358>"
      ]
     },
     "execution_count": 32,
     "metadata": {},
     "output_type": "execute_result"
    }
   ],
   "source": [
    "# create Toronto map\n",
    "latitude = 43.651070\n",
    "longitude = -79.347015\n",
    "map_clusters = folium.Map(location=[latitude, longitude], zoom_start=11)\n",
    "\n",
    "# set color scheme for the clusters\n",
    "x = np.arange(kclusters)\n",
    "ys = [i + x + (i*x)**2 for i in range(kclusters)]\n",
    "colors_array = cm.rainbow(np.linspace(0, 1, len(ys)))\n",
    "rainbow = [colors.rgb2hex(i) for i in colors_array]\n",
    "\n",
    "# add markers to the map\n",
    "markers_colors = []\n",
    "for lat, lon, neighborhood, venues, cluster in zip(df_toronto_neighborhoods_clustered['Latitude'], \n",
    "                                           df_toronto_neighborhoods_clustered['Longitude'], \n",
    "                                           df_toronto_neighborhoods_clustered['Neighborhood'],\n",
    "                                           df_toronto_neighborhoods_clustered['Total Venues'], \n",
    "                                           df_toronto_neighborhoods_clustered['Cluster Label']):\n",
    "    label = folium.Popup(str(neighborhood) + '; ' + str(venues) + ' venues; Cluster ' + str(cluster), parse_html=True)\n",
    "    folium.CircleMarker(\n",
    "        [lat, lon],\n",
    "        radius=5,\n",
    "        popup=label,\n",
    "        color=rainbow[cluster-1],\n",
    "        fill=True,\n",
    "        fill_color=rainbow[cluster-1],\n",
    "        fill_opacity=0.7).add_to(map_clusters)\n",
    "       \n",
    "map_clusters"
   ]
  },
  {
   "cell_type": "code",
   "execution_count": null,
   "metadata": {},
   "outputs": [],
   "source": []
  }
 ],
 "metadata": {
  "kernelspec": {
   "display_name": "Python",
   "language": "python",
   "name": "conda-env-python-py"
  },
  "language_info": {
   "codemirror_mode": {
    "name": "ipython",
    "version": 3
   },
   "file_extension": ".py",
   "mimetype": "text/x-python",
   "name": "python",
   "nbconvert_exporter": "python",
   "pygments_lexer": "ipython3",
   "version": "3.6.12"
  }
 },
 "nbformat": 4,
 "nbformat_minor": 4
}
